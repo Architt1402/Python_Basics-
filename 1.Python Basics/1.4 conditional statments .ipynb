{
 "cells": [
  {
   "cell_type": "markdown",
   "metadata": {},
   "source": [
    "#### Conditional Statements (if, elif, else)\n",
    "Video Outline:\n",
    "1. Introduction to Conditional Statements\n",
    "2. if Statement\n",
    "3. else Statement\n",
    "4. elif Statement\n",
    "5. Nested Conditional Statements\n",
    "6. Practical Examples\n",
    "7. Common Errors and Best Practices\n"
   ]
  },
  {
   "cell_type": "code",
   "execution_count": 1,
   "metadata": {},
   "outputs": [
    {
     "name": "stdout",
     "output_type": "stream",
     "text": [
      "you are allowed vote in election\n"
     ]
    }
   ],
   "source": [
    "## if statment\n",
    "age=20\n",
    "  \n",
    "  \n",
    "if age>=18:\n",
    "   print(\"you are allowed vote in election\")"
   ]
  },
  {
   "cell_type": "code",
   "execution_count": 2,
   "metadata": {},
   "outputs": [
    {
     "name": "stdout",
     "output_type": "stream",
     "text": [
      "you are not above 18 \n"
     ]
    }
   ],
   "source": [
    "## else \n",
    "## else excute when condition is false \n",
    "\n",
    "age=16\n",
    "if age>=18:\n",
    "    print(\"you are above 18\")\n",
    "else:\n",
    "    print(\"you are not above 18 \")"
   ]
  },
  {
   "cell_type": "code",
   "execution_count": 3,
   "metadata": {},
   "outputs": [
    {
     "name": "stdout",
     "output_type": "stream",
     "text": [
      "you are become tenager \n"
     ]
    }
   ],
   "source": [
    "## elif\n",
    "## elif allow you u to check multiple conditions : stand for else if\n",
    "\n",
    "age=18\n",
    "\n",
    "if age>=20:\n",
    "    print(\"you are teneager\")\n",
    "elif age>=18:\n",
    "    print(\"you are become tenager \")\n",
    "else:\n",
    "    print(\"you are minor\")\n"
   ]
  },
  {
   "cell_type": "code",
   "execution_count": 16,
   "metadata": {},
   "outputs": [
    {
     "name": "stdout",
     "output_type": "stream",
     "text": [
      "Positive\n",
      "even\n"
     ]
    }
   ],
   "source": [
    "## nested conditonal statments \n",
    "## you can place if else elif inside another statments  to create nested conditional statment\n",
    "\n",
    "## number even odd negative\n",
    "\n",
    "number = int(input(\"Enter the number: \"))\n",
    "\n",
    "if number >= 0:\n",
    "    print(\"Positive\")\n",
    "    if number%2==0:\n",
    "        print(\"even\")\n",
    "    else:\n",
    "        print(\"odd\")\n",
    "else:\n",
    "    print(\"negative\")\n"
   ]
  },
  {
   "cell_type": "code",
   "execution_count": 41,
   "metadata": {},
   "outputs": [
    {
     "name": "stdout",
     "output_type": "stream",
     "text": [
      "your are genz\n",
      "200 not a leap year \n"
     ]
    }
   ],
   "source": [
    "## practical examples \n",
    "\n",
    "## determine if year is leap year or not \n",
    "\n",
    "year=int(input(\"enter the year\"))\n",
    "\n",
    "if year<=2000:\n",
    "    print(\"your are genz\")\n",
    "    if year%4==0:\n",
    "        if year %100 ==0:\n",
    "            if year %400 ==0:\n",
    "                print(f\"{year}is a leap year \")\n",
    "            else:\n",
    "                print(f\"{year} not a leap year \")\n",
    "        else:\n",
    "            print(f\"{year} is a leap year \")\n",
    "    else:\n",
    "        print(f\"{year} is not a leap year \")\n",
    "         \n",
    "else:\n",
    "     print(\"you are not genz\")     \n",
    "    "
   ]
  },
  {
   "cell_type": "code",
   "execution_count": 40,
   "metadata": {},
   "outputs": [],
   "source": [
    "## calculator\n",
    "\n",
    "num1=int(input(\"enter the number\"))\n",
    "num2=int(input(\"enter the number\"))\n",
    "operations=input(\"enter the operations ( + ,-,/,*)\")\n",
    "\n",
    "if operations == \"+\":\n",
    "    print(num1+num2)\n",
    "elif operations ==\"-\":\n",
    "    print(num1-num2)\n",
    "elif operations ==\"*\":\n",
    "    print(num1*num2)\n",
    "elif operations ==\"/\":\n",
    "    if num2!=0:\n",
    "       print(num1/num2)\n",
    "    else:\n",
    "        print(\"not divisible by 2\")\n",
    "\n",
    "\n"
   ]
  }
 ],
 "metadata": {
  "kernelspec": {
   "display_name": "venv",
   "language": "python",
   "name": "python3"
  },
  "language_info": {
   "codemirror_mode": {
    "name": "ipython",
    "version": 3
   },
   "file_extension": ".py",
   "mimetype": "text/x-python",
   "name": "python",
   "nbconvert_exporter": "python",
   "pygments_lexer": "ipython3",
   "version": "3.12.0"
  }
 },
 "nbformat": 4,
 "nbformat_minor": 2
}
